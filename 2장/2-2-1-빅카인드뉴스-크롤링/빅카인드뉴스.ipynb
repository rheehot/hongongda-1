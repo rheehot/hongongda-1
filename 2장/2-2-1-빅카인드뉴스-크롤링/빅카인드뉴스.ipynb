{
 "cells": [
  {
   "cell_type": "code",
   "execution_count": 27,
   "metadata": {},
   "outputs": [
    {
     "name": "stdout",
     "output_type": "stream",
     "text": [
      "Requirement already satisfied: Selenium in c:\\users\\hwnau\\.conda\\envs\\cuda\\lib\\site-packages (3.9.0)\n"
     ]
    }
   ],
   "source": [
    "!pip install Selenium"
   ]
  },
  {
   "cell_type": "code",
   "execution_count": 28,
   "metadata": {},
   "outputs": [],
   "source": [
    "from selenium import webdriver\n",
    "from bs4 import BeautifulSoup\n",
    "import urllib\n",
    "import urllib.request\n",
    "from urllib.request import urlopen \n",
    "import time"
   ]
  },
  {
   "cell_type": "code",
   "execution_count": 16,
   "metadata": {},
   "outputs": [],
   "source": [
    "\n",
    "# 시작\n",
    "driver = webdriver.Chrome('chromedriver.exe')\n",
    "\n",
    "# 이동\n",
    "driver.get(\"https://www.bigkinds.or.kr/\")\n",
    "\n",
    "#driver.implicitly_wait(3)\n",
    "\n",
    "driver.find_element_by_xpath('//*[@class=\"login-modal-btn login-link session-link active\"]').click()\n",
    "\n",
    "#잠시 기다리고\n",
    "driver.implicitly_wait(3)\n",
    "\n",
    "#오류 때문에 귀찮아도 기다리고\n",
    "ids = driver.find_element_by_id('login-user-id')\n",
    "\n",
    "\n",
    "#아이디\n",
    "driver.find_element_by_id('login-user-id').send_keys('newhiwoong@gmail.com')\n",
    "driver.implicitly_wait(1)\n",
    "#비번\n",
    "driver.find_element_by_id('login-user-password').send_keys('x!')\n",
    "\n",
    "\n",
    "# 로그인 버튼\n",
    "driver.find_element_by_id('login-btn').click()\n"
   ]
  },
  {
   "cell_type": "code",
   "execution_count": 34,
   "metadata": {},
   "outputs": [
    {
     "name": "stdout",
     "output_type": "stream",
     "text": [
      "<div class=\"news-detail__content\">\n",
      "<div class=\"text-center news-detail__image mt-2 mb-2\">\n",
      "<img alt=\"[사설] 6월 경기지표 호전은 기저효과 탓… 방심할 때 아니다\" class=\"img-responsive\" src=\"https://www.bigkinds.or.kr/resources/images/01100701/2020/07/31/01100701.20200731221458001.01.jpg\"/>\n",
      "</div>\n",
      "\n",
      "                실물경제지표가 오랜만에 호전됐다. 어제 통계청에 따르면 6월 산업생산이 전월 대비 4.2% 늘었고 설비투자와 소매판매도 각각 5.4%, 2.4% 증가했다. 3개 지표가 동시에 개선된 건 지난해 12월 이후 처음이다. 김용범 기획재정부 1차관은 “3분기 경기 반등 가능성이 더욱 커지고 있다”고 했다. 경제는 심리인 만큼 시장에 희망의 메시지를 보내려는 의도를 이해하지 못할 바는 아니지만 경제 실상과는 거리가 멀다. 통계청은 전월 감소폭이 큰 데 따른 기저효과가 작용했다고 했다. 아직 제조업 생산과 평균가동률 등 주요지표는 코로나19 사태 이전을 회복하지 못했다. <br/> <br/> 코로나19 사태의 충격으로 세계 경제는 바닥을 모르고 추락하고 있다. 2분기에 전분기 대비 11.5%의 경제성장률을 기록한 중국을 제외하고는 주요 경제권이 위기상황에서 헤어나지 못하고 있다. 미국은 2분기 성장률이 -32.9%(연율)로 1930년대 대공황을 넘어서는 역대 최악을 기록했다. 제롬 파월 연방준비제도(Fed) 의장은 “현재의 침체는 우리가 기억하는 한 미국 경제에 가장 큰 충격”이라고 했다. 독일도 2분기 성장률이 -10.1%로 1970년 관련 통계가 작성된 이후 가장 저조했고, 멕시코는 -17.3%로 곤두박질쳤다. 주요국 경기가 2분기에 바닥을 치고 3분기에 반등한다지만 그 폭은 제한적일 가능성이 농후하다. 세계 곳곳에서 코로나19가 맹위를 떨치면서 실업자가 폭증해 소비가 얼어붙고 있기 때문이다. 한국경제가 외풍에 취약한 것을 감안하면 우려할 만한 상황이다. <br/> <br/> 한국은 2분기에 외환위기 이후 가장 낮은 -3.3%의 성장률을 기록했다. 문재인 대통령은 경제협력개발기구(OECD) 국가들과 비교하며 “기적 같은 선방의 결과”라고 했지만 안이한 인식이다. 코로나19가 어느 정도 통제된 데다 정부가 슈퍼예산과 대규모 추경 편성을 통해 재정을 쏟아부은 결과다. 코로나19 상황에 따라 언제든지 경제가 급전직하할 수 있다. 미국 대통령선거가 100일도 채 남지 않은 상황에서 미·중 갈등은 갈수록 격화되고 있다. 미국과 중국에 대한 수출의존도가 40%에 달하는 한국 경제로서는 악재가 아닐 수 없다. <br/> <br/> 방심할 때가 아니다. 정부는 코로나19의 국내외 상황과 해외 변수들에 촉각을 곤두세우고 상황별 위기대응책을 마련해야 할 것이다. 부동산·주식 등 자산시장의 거품이 부풀고 있는 점도 경계해야 할 일이다. 실물과 괴리된 집값과 주가는 위기의 뇌관으로 돌변할 수 있다. 시중에 풀린 과잉 유동성을 자산시장에서 실물경제 쪽으로 유인해 투자와 소비를 촉진하는 일이 급선무다. 이를 위해 정부는 정책기조를 친기업·친시장으로 바꾸고 4차산업 등 신산업 육성에 총력을 기울여야 한다. 재정 주도의 경기부양은 지속가능하지 않다는 점도 명심해야 한다. 경제 주체들의 고통분담 없이 전대미문의 위기를 타개하기는 힘들다. 부실기업을 솎아내 산업경쟁력과 경제체질을 강화하는 구조조정은 피할 수 없는 과제다.\n",
      "            </div>\n"
     ]
    }
   ],
   "source": [
    "\n",
    "# 시작\n",
    "driver = webdriver.Chrome('chromedriver.exe')\n",
    "\n",
    "# 이동\n",
    "driver.get(\"https://www.bigkinds.or.kr/\")\n",
    "\n",
    "#driver.implicitly_wait(3)\n",
    "\n",
    "driver.find_element_by_xpath('//*[@class=\"login-modal-btn login-link session-link active\"]').click()\n",
    "\n",
    "#잠시 기다리고\n",
    "driver.implicitly_wait(3)\n",
    "\n",
    "#오류 때문에 귀찮아도 기다리고\n",
    "ids = driver.find_element_by_id('login-user-id')\n",
    "\n",
    "#비번\n",
    "driver.find_element_by_id('login-user-password').send_keys('x!')\n",
    "#아이디\n",
    "driver.find_element_by_id('login-user-id').send_keys('newhiwoong@gmail.com')\n",
    "\n",
    "# 로그인 버튼\n",
    "driver.find_element_by_id('login-btn').click()\n",
    "\n",
    "# 검색창에 치고\n",
    "driver.find_element_by_id('total-search-key').send_keys('문재인')\n",
    "# 검색 버튼 누르기\n",
    "driver.find_element_by_xpath('//*[@class=\"btn main-search__search-btn news-search-btn\"]').click()\n",
    "\n",
    "\n",
    "#잠시 기다리고\n",
    "driver.implicitly_wait(3)\n",
    "\n",
    "# 가사 클릭\n",
    "driver.find_element_by_xpath('//*[@class=\"news-item clearfix   \"]').click()\n",
    "\n",
    "\n",
    "#크롤링하고\n",
    "\n",
    "html = driver.page_source\n",
    "soup = BeautifulSoup(html, 'html.parser')\n",
    "\n",
    "\n",
    "alls = soup.find('div', {'class' : 'news-detail__content'})\n",
    "print(alls)\n",
    "\n",
    "#크롤링하고\n",
    "#driver.implicitly_wait(3)\n",
    "#driver.find_element_by_xpath('//*[@class=\"btn btn-default\"]').click()\n",
    "#driver.find_element_by_xpath('//*[@class=\"btn btn-default\"]/button').click()\n",
    "\n",
    "# 가사 클릭\n",
    "#driver.find_element_by_xpath('//*[@class=\"news-item clearfix   \"]').click()\n"
   ]
  },
  {
   "cell_type": "code",
   "execution_count": null,
   "metadata": {},
   "outputs": [],
   "source": []
  }
 ],
 "metadata": {
  "kernelspec": {
   "display_name": "Python 3",
   "language": "python",
   "name": "python3"
  },
  "language_info": {
   "codemirror_mode": {
    "name": "ipython",
    "version": 3
   },
   "file_extension": ".py",
   "mimetype": "text/x-python",
   "name": "python",
   "nbconvert_exporter": "python",
   "pygments_lexer": "ipython3",
   "version": "3.6.9"
  }
 },
 "nbformat": 4,
 "nbformat_minor": 4
}
